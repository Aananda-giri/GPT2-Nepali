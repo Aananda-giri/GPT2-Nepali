{
 "cells": [
  {
   "cell_type": "code",
   "execution_count": null,
   "metadata": {},
   "outputs": [],
   "source": [
    "\n",
    "import time\n",
    "!ls\n",
    "t1  = time.time()\n",
    "def convert_seconds_to_time_unit(seconds):\n",
    "  \"\"\"Converts seconds to the appropriate time unit (minute, hour, or day).\n",
    "\n",
    "  Args:\n",
    "    seconds: The number of seconds to convert.\n",
    "\n",
    "  Returns:\n",
    "    A string representing the converted time in the appropriate time unit.\n",
    "  \"\"\"\n",
    "\n",
    "  minutes = seconds // 60\n",
    "  hours = minutes // 60\n",
    "  days = hours // 24\n",
    "\n",
    "  if days > 0:\n",
    "    return f\"{days} day(s)\"\n",
    "  elif hours > 0:\n",
    "    return f\"{hours} hour(s)\"\n",
    "  elif minutes > 0:\n",
    "    return f\"{minutes} minute(s)\"\n",
    "  else:\n",
    "    return f\"{seconds} second(s)\"\n",
    "time.sleep(3)\n",
    "print(convert_seconds_to_time_unit(time.time() -  t1))\n"
   ]
  },
  {
   "cell_type": "code",
   "execution_count": null,
   "metadata": {},
   "outputs": [],
   "source": [
    "# run train_gpt\n",
    "t1 = time.time()\n",
    "!python3 gpt_train.py\n",
    "print(convert_seconds_to_time_unit(time.time()-t1))"
   ]
  }
 ],
 "metadata": {
  "language_info": {
   "name": "python"
  }
 },
 "nbformat": 4,
 "nbformat_minor": 2
}
