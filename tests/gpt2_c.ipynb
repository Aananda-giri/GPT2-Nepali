{
 "cells": [
  {
   "cell_type": "markdown",
   "metadata": {},
   "source": [
    "* [Drive link](https://drive.google.com/drive/u/2/folders/19yrXHIDnX5NWUDXNk6RdLRS-xn86U3ym)\n",
    "\n",
    "* [Karpathy code](https://github.com/karpathy/llm.c)\n"
   ]
  }
 ],
 "metadata": {
  "language_info": {
   "name": "python"
  }
 },
 "nbformat": 4,
 "nbformat_minor": 2
}
