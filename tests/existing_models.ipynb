{
 "cells": [
  {
   "cell_type": "markdown",
   "metadata": {},
   "source": [
    "# 1. Npberta\n",
    "* [huggingface npberta model link](https://huggingface.co/NepBERTa/NepBERTa)\n",
    "* [Google Colab](https://colab.research.google.com/drive/13Qibwo26mbEgVBlOXXuYfLapvqb0qDoL?authuser=2#scrollTo=atpHD2vAR0pl)"
   ]
  },
  {
   "cell_type": "code",
   "execution_count": null,
   "metadata": {},
   "outputs": [],
   "source": [
    "# Use a pipeline as a high-level helper\n",
    "from transformers import pipeline\n",
    "\n",
    "pipe = pipeline(\"fill-mask\", model=\"NepBERTa/NepBERTa\")"
   ]
  },
  {
   "cell_type": "code",
   "execution_count": null,
   "metadata": {},
   "outputs": [],
   "source": [
    "# masked lamguate modeling\n",
    "import pandas as pd\n",
    "# pd.DataFrame(pipe(\" मेरो बिरालो धेरै [MASK] छ।\"))\n",
    "# pd.DataFrame(pipe(\"नेपाल को वर्तमान प्रधानमन्त्री पुष्प कमल [MASK]\"))\n",
    "pd.DataFrame(pipe(\"रामले [MASK] खायो।\")) # expecting: भात"
   ]
  },
  {
   "cell_type": "markdown",
   "metadata": {},
   "source": [
    "### Next Word prediction"
   ]
  },
  {
   "cell_type": "code",
   "execution_count": null,
   "metadata": {},
   "outputs": [],
   "source": [
    "from transformers import pipeline\n",
    "\n",
    "pipe = pipeline(\"fill-mask\", model=\"NepBERTa/NepBERTa\")\n",
    "\n",
    "# Example 1: Predict next word after \"प्रधानमन्त्री\"\n",
    "# input_text = \"नेपाल को वर्तमान प्रधानमन्त्री\"\n",
    "input_text = \"नेपाल \"\n",
    "\n",
    "input_text = \"राम भात \"\n",
    "input_text = \"रामले भात खायो।\"\n",
    "\n",
    "for i in range(10):\n",
    "    # Predict next 10 tokens\n",
    "    prediction = pipe(input_text+'[MASK]')\n",
    "    next_token = prediction[0]['token_str']\n",
    "    input_text += next_token\n",
    "    print(f\"{next_token}\")\n",
    "    print(input_text)"
   ]
  }
 ],
 "metadata": {
  "language_info": {
   "name": "python"
  }
 },
 "nbformat": 4,
 "nbformat_minor": 2
}
