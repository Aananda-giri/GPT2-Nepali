{
 "cells": [
  {
   "cell_type": "code",
   "execution_count": 1,
   "metadata": {},
   "outputs": [
    {
     "data": {
      "text/plain": [
       "<bound method BasicTokenizer.encode of <minbpe.minbpe.basic.BasicTokenizer object at 0x7f4401946f80>>"
      ]
     },
     "execution_count": 1,
     "metadata": {},
     "output_type": "execute_result"
    }
   ],
   "source": [
    "\n",
    "from minbpe.minbpe.basic import BasicTokenizer\n",
    "tokenizer = BasicTokenizer()\n",
    "tokenizer.load('minbpe/models/basic.model')\n",
    "tokenizer.encode\n",
    "# tokenizer.encode('hello world')\n"
   ]
  },
  {
   "cell_type": "code",
   "execution_count": 3,
   "metadata": {},
   "outputs": [
    {
     "name": "stdout",
     "output_type": "stream",
     "text": [
      "\n",
      "\n",
      " encoder: <bound method BasicTokenizer.encode of <minbpe.minbpe.basic.BasicTokenizer object at 0x7f4401946f80>> True\n"
     ]
    },
    {
     "data": {
      "text/html": [
       "<style>span.token {font-family: Courier New; font-size: 1.1em; font-weight: 300; padding: 0px; margin-right: 0px; border-color: rgba(0, 0, 0, 0.05); border-style: ridge; border-radius: 0px;}</style><div style='background-color: #F0F0F0; line-height: 175%; padding: 25px; border-radius: 8px; margin-left: 10px; margin-right: 10px; margin-top: 20px; margin-bottom: 20px; overflow-x: auto; white-space: nowrap;'><span class='token' style='background-color: rgba(179, 226, 205, 0.675);'>T</span><span class='token' style='background-color: rgba(253, 205, 172, 0.675);'>hi</span><span class='token' style='background-color: rgba(203, 213, 232, 0.675);'>s&nbsp;</span><span class='token' style='background-color: rgba(244, 202, 228, 0.675);'>is&nbsp;</span><span class='token' style='background-color: rgba(230, 245, 201, 0.675);'>a&nbsp;</span><span class='token' style='background-color: rgba(255, 242, 174, 0.675);'>s</span><span class='token' style='background-color: rgba(241, 226, 204, 0.675);'>am</span><span class='token' style='background-color: rgba(204, 204, 204, 0.675);'>p</span><span class='token' style='background-color: rgba(179, 226, 205, 0.675);'>le&nbsp;</span><span class='token' style='background-color: rgba(253, 205, 172, 0.675);'>t</span><span class='token' style='background-color: rgba(203, 213, 232, 0.675);'>e</span><span class='token' style='background-color: rgba(244, 202, 228, 0.675);'>x</span><span class='token' style='background-color: rgba(230, 245, 201, 0.675);'>t</span><span class='token' style='background-color: rgba(255, 242, 174, 0.675);'>.<br></span><span class='token' style='background-color: rgba(179, 226, 205, 0.675);'>I</span><span class='token' style='background-color: rgba(253, 205, 172, 0.675);'>t&nbsp;</span><span class='token' style='background-color: rgba(203, 213, 232, 0.675);'>h</span><span class='token' style='background-color: rgba(244, 202, 228, 0.675);'>as&nbsp;</span><span class='token' style='background-color: rgba(230, 245, 201, 0.675);'>m</span><span class='token' style='background-color: rgba(255, 242, 174, 0.675);'>ul</span><span class='token' style='background-color: rgba(241, 226, 204, 0.675);'>ti</span><span class='token' style='background-color: rgba(204, 204, 204, 0.675);'>p</span><span class='token' style='background-color: rgba(179, 226, 205, 0.675);'>le&nbsp;</span><span class='token' style='background-color: rgba(253, 205, 172, 0.675);'>l</span><span class='token' style='background-color: rgba(203, 213, 232, 0.675);'>in</span><span class='token' style='background-color: rgba(244, 202, 228, 0.675);'>es</span><span class='token' style='background-color: rgba(230, 245, 201, 0.675);'>.<br></span></div>"
      ],
      "text/plain": [
       "<IPython.core.display.HTML object>"
      ]
     },
     "metadata": {},
     "output_type": "display_data"
    }
   ],
   "source": [
    "# from tokenizer_viz import TokenVisualization\n",
    "from visualize import TokenVisualization\n",
    "from IPython.display import  display, HTML\n",
    "\n",
    "# Initialize the TokenVisualization class with the encoder and decoder functions\n",
    "token_viz = TokenVisualization(\n",
    "    encoder=tokenizer.encode,\n",
    "    decoder=tokenizer.decode\n",
    ")\n",
    "\n",
    "# Define a sample text to visualize tokenization boundaries\n",
    "sample_text = \"This is a sample text.\\nIt has multiple lines.\"\n",
    "\n",
    "# Visualize the tokenization boundaries\n",
    "html = token_viz.visualize(text=sample_text)\n",
    "display(HTML(html))   # <IPython.core.display.HTML object>"
   ]
  },
  {
   "cell_type": "code",
   "execution_count": 9,
   "metadata": {},
   "outputs": [
    {
     "ename": "TypeError",
     "evalue": "'BasicTokenizer' object is not callable",
     "output_type": "error",
     "traceback": [
      "\u001b[0;31m---------------------------------------------------------------------------\u001b[0m",
      "\u001b[0;31mTypeError\u001b[0m                                 Traceback (most recent call last)",
      "Cell \u001b[0;32mIn[9], line 15\u001b[0m\n\u001b[1;32m     12\u001b[0m sample_text \u001b[38;5;241m=\u001b[39m \u001b[38;5;124m\"\u001b[39m\u001b[38;5;124mThis is a sample text.\u001b[39m\u001b[38;5;130;01m\\n\u001b[39;00m\u001b[38;5;124mIt has multiple lines.\u001b[39m\u001b[38;5;124m\"\u001b[39m\n\u001b[1;32m     14\u001b[0m \u001b[38;5;66;03m# Visualize the tokenization boundaries\u001b[39;00m\n\u001b[0;32m---> 15\u001b[0m html \u001b[38;5;241m=\u001b[39m \u001b[43mtoken_viz\u001b[49m\u001b[38;5;241;43m.\u001b[39;49m\u001b[43mvisualize\u001b[49m\u001b[43m(\u001b[49m\u001b[43mtext\u001b[49m\u001b[38;5;241;43m=\u001b[39;49m\u001b[43msample_text\u001b[49m\u001b[43m)\u001b[49m\n\u001b[1;32m     16\u001b[0m display(HTML(html))   \u001b[38;5;66;03m# <IPython.core.display.HTML object>\u001b[39;00m\n",
      "File \u001b[0;32m~/mambaforge/envs/machine_env/lib/python3.10/site-packages/tokenizer_viz/visualization.py:166\u001b[0m, in \u001b[0;36mTokenVisualization.visualize\u001b[0;34m(self, text, split_on, display_inline, encoder, decoder, strip_padding, pad_token)\u001b[0m\n\u001b[1;32m    163\u001b[0m _decoder \u001b[38;5;241m=\u001b[39m \u001b[38;5;28mself\u001b[39m\u001b[38;5;241m.\u001b[39mdecoder \u001b[38;5;28;01mif\u001b[39;00m decoder \u001b[38;5;129;01mis\u001b[39;00m \u001b[38;5;28;01mNone\u001b[39;00m \u001b[38;5;28;01melse\u001b[39;00m decoder\n\u001b[1;32m    165\u001b[0m \u001b[38;5;28;01mif\u001b[39;00m \u001b[38;5;28misinstance\u001b[39m(text, \u001b[38;5;28mstr\u001b[39m):\n\u001b[0;32m--> 166\u001b[0m     token_lines \u001b[38;5;241m=\u001b[39m [_encoder(x \u001b[38;5;241m+\u001b[39m split_on) \u001b[38;5;28;01mfor\u001b[39;00m x \u001b[38;5;129;01min\u001b[39;00m text\u001b[38;5;241m.\u001b[39msplit(split_on)]\n\u001b[1;32m    167\u001b[0m \u001b[38;5;28;01melse\u001b[39;00m:\n\u001b[1;32m    168\u001b[0m     token_lines \u001b[38;5;241m=\u001b[39m [_encoder(x \u001b[38;5;241m+\u001b[39m split_on) \u001b[38;5;28;01mfor\u001b[39;00m x \u001b[38;5;129;01min\u001b[39;00m _decoder(text)\u001b[38;5;241m.\u001b[39msplit(split_on)]\n",
      "File \u001b[0;32m~/mambaforge/envs/machine_env/lib/python3.10/site-packages/tokenizer_viz/visualization.py:166\u001b[0m, in \u001b[0;36m<listcomp>\u001b[0;34m(.0)\u001b[0m\n\u001b[1;32m    163\u001b[0m _decoder \u001b[38;5;241m=\u001b[39m \u001b[38;5;28mself\u001b[39m\u001b[38;5;241m.\u001b[39mdecoder \u001b[38;5;28;01mif\u001b[39;00m decoder \u001b[38;5;129;01mis\u001b[39;00m \u001b[38;5;28;01mNone\u001b[39;00m \u001b[38;5;28;01melse\u001b[39;00m decoder\n\u001b[1;32m    165\u001b[0m \u001b[38;5;28;01mif\u001b[39;00m \u001b[38;5;28misinstance\u001b[39m(text, \u001b[38;5;28mstr\u001b[39m):\n\u001b[0;32m--> 166\u001b[0m     token_lines \u001b[38;5;241m=\u001b[39m [\u001b[43m_encoder\u001b[49m\u001b[43m(\u001b[49m\u001b[43mx\u001b[49m\u001b[43m \u001b[49m\u001b[38;5;241;43m+\u001b[39;49m\u001b[43m \u001b[49m\u001b[43msplit_on\u001b[49m\u001b[43m)\u001b[49m \u001b[38;5;28;01mfor\u001b[39;00m x \u001b[38;5;129;01min\u001b[39;00m text\u001b[38;5;241m.\u001b[39msplit(split_on)]\n\u001b[1;32m    167\u001b[0m \u001b[38;5;28;01melse\u001b[39;00m:\n\u001b[1;32m    168\u001b[0m     token_lines \u001b[38;5;241m=\u001b[39m [_encoder(x \u001b[38;5;241m+\u001b[39m split_on) \u001b[38;5;28;01mfor\u001b[39;00m x \u001b[38;5;129;01min\u001b[39;00m _decoder(text)\u001b[38;5;241m.\u001b[39msplit(split_on)]\n",
      "\u001b[0;31mTypeError\u001b[0m: 'BasicTokenizer' object is not callable"
     ]
    }
   ],
   "source": [
    "from tokenizer_viz import TokenVisualization\n",
    "# from visualize import TokenVisualization\n",
    "from IPython.display import  display, HTML\n",
    "\n",
    "# Initialize the TokenVisualization class with the encoder and decoder functions\n",
    "token_viz = TokenVisualization(\n",
    "    encoder=tokenizer.encode,\n",
    "    decoder=tokenizer.decode\n",
    ")\n",
    "\n",
    "# Define a sample text to visualize tokenization boundaries\n",
    "sample_text = \"This is a sample text.\\nIt has multiple lines.\"\n",
    "\n",
    "# Visualize the tokenization boundaries\n",
    "html = token_viz.visualize(text=sample_text)\n",
    "display(HTML(html))   # <IPython.core.display.HTML object>"
   ]
  },
  {
   "cell_type": "code",
   "execution_count": 10,
   "metadata": {},
   "outputs": [
    {
     "data": {
      "text/plain": [
       "<minbpe.minbpe.basic.BasicTokenizer at 0x7f4401946f80>"
      ]
     },
     "execution_count": 10,
     "metadata": {},
     "output_type": "execute_result"
    }
   ],
   "source": [
    "token_viz.encoder"
   ]
  },
  {
   "cell_type": "code",
   "execution_count": 11,
   "metadata": {},
   "outputs": [
    {
     "data": {
      "text/plain": [
       "True"
      ]
     },
     "execution_count": 11,
     "metadata": {},
     "output_type": "execute_result"
    }
   ],
   "source": [
    "from typing import Callable\n",
    "class Test:\n",
    "    def __init__(self):\n",
    "        pass\n",
    "    def no(self):\n",
    "        return False\n",
    "\n",
    "test = Test()\n",
    "\n",
    "def no():\n",
    "    return False\n",
    "isinstance(no, Callable)    # True\n",
    "isinstance(tokenizer.encode, Callable)"
   ]
  }
 ],
 "metadata": {
  "kernelspec": {
   "display_name": "machine_env",
   "language": "python",
   "name": "python3"
  },
  "language_info": {
   "codemirror_mode": {
    "name": "ipython",
    "version": 3
   },
   "file_extension": ".py",
   "mimetype": "text/x-python",
   "name": "python",
   "nbconvert_exporter": "python",
   "pygments_lexer": "ipython3",
   "version": "3.10.12"
  }
 },
 "nbformat": 4,
 "nbformat_minor": 2
}
