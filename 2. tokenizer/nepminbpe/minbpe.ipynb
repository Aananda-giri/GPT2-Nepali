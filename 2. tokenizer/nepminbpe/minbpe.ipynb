{
 "cells": [
  {
   "cell_type": "code",
   "execution_count": 4,
   "metadata": {},
   "outputs": [
    {
     "name": "stdout",
     "output_type": "stream",
     "text": [
      "2304\n"
     ]
    },
    {
     "data": {
      "text/plain": [
       "'ऀ'"
      ]
     },
     "execution_count": 4,
     "metadata": {},
     "output_type": "execute_result"
    }
   ],
   "source": [
    "# unicode: character level\n",
    "\n",
    "# Encoding\n",
    "text = 'ऀ' + 'ॿ' # One character at a time\n",
    "print(ord(text[0]))\n",
    "\n",
    "# Decoding\n",
    "chr(ord(text[0]))"
   ]
  },
  {
   "cell_type": "code",
   "execution_count": 23,
   "metadata": {},
   "outputs": [
    {
     "name": "stdout",
     "output_type": "stream",
     "text": [
      " utf-8: b'\\xe0\\xa4\\x80\\xe0\\xa5\\xbf'\n",
      " utf-8 list: [224, 164, 128, 224, 165, 191]\n",
      "encoded mixed: [72, 101, 108, 108, 111, 44, 32, 224, 164, 168, 224, 164, 174, 224, 164, 184, 224, 165, 141, 224, 164, 164, 224, 165, 135, 33]\n",
      "decoded mixed: Hello, नमस्ते!\n"
     ]
    }
   ],
   "source": [
    "# utf-8: Byte level\n",
    "\n",
    "# Encoding\n",
    "text = 'ऀ' + 'ॿ'\n",
    "print(f\" utf-8: {text.encode('utf-8')}\")\n",
    "print(f\" utf-8 list: {list(text.encode('utf-8'))}\")\n",
    "\n",
    "mixed_text = \"Hello, नमस्ते!\"\n",
    "utf8_encoded = list(mixed_text.encode('utf-8'))\n",
    "print(f\"encoded mixed: {utf8_encoded}\")\n",
    "\n",
    "# Decoding\n",
    "bytes(list(text.encode('utf-8'))).decode('utf-8')\n",
    "print(f\"decoded mixed: {bytes(utf8_encoded).decode('utf-8')}\")"
   ]
  },
  {
   "cell_type": "code",
   "execution_count": 17,
   "metadata": {},
   "outputs": [
    {
     "data": {
      "text/plain": [
       "[97]"
      ]
     },
     "execution_count": 17,
     "metadata": {},
     "output_type": "execute_result"
    }
   ],
   "source": [
    "list('ऀ'.encode('utf-8'))    # [224, 164, 128]\n",
    "list('a'.encode('utf-8'))    # [97]"
   ]
  }
 ],
 "metadata": {
  "kernelspec": {
   "display_name": "machine_env",
   "language": "python",
   "name": "python3"
  },
  "language_info": {
   "codemirror_mode": {
    "name": "ipython",
    "version": 3
   },
   "file_extension": ".py",
   "mimetype": "text/x-python",
   "name": "python",
   "nbconvert_exporter": "python",
   "pygments_lexer": "ipython3",
   "version": "3.10.12"
  }
 },
 "nbformat": 4,
 "nbformat_minor": 2
}
