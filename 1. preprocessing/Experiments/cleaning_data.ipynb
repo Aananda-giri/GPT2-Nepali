{
 "cells": [
  {
   "cell_type": "markdown",
   "metadata": {},
   "source": [
    "## Search character\n",
    "\n",
    "* code: understanding_data.ipynb"
   ]
  },
  {
   "cell_type": "code",
   "execution_count": 25,
   "metadata": {},
   "outputs": [
    {
     "name": "stdout",
     "output_type": "stream",
     "text": [
      "['Lorem ipsum dolor sit amet, consectetur adipiscing elit. Vivamus lacinia odio vitae vestibulum vestibulum. Cras venenatis euismod', 28]\n"
     ]
    }
   ],
   "source": [
    "def search(query_char, text_list):\n",
    "    \"\"\"\n",
    "    Returns a 200-character string snippet (100 characters before and 100 after)\n",
    "    containing the first occurrence of the query_char in the list of texts.\n",
    "    \"\"\"\n",
    "    for text in text_list:\n",
    "        index = text.find(query_char)\n",
    "        if index != -1:  # If the character is found\n",
    "            # Calculate the start and end indices for the substring\n",
    "            start = max(0, index - 100)\n",
    "            end = min(len(text), index + 101)  # Include the character itself\n",
    "            result = text[start:end]\n",
    "            character_index = result.find(query_char)\n",
    "            return [result, character_index]\n",
    "    # return \"Character not found in any text.\"\n",
    "    return [None, None]\n",
    "\n",
    "# Example usage with dummy data\n",
    "text = [\n",
    "    \"Lorem ipsum dolor sit amet, consectetur adipiscing elit. Vivamus lacinia odio vitae vestibulum vestibulum. Cras venenatis euismod malesuada. cook Nulla facilisi. Nam libero odio, malesuada at tempor id, scelerisque eu sem. Pellentesque habitant morbi tristique senectus et netus et malesuada fames ac turpis egestas.\",\n",
    "    \"Another example text here to test the function. cook Duis aute irure dolor in reprehenderit in voluptate velit esse cillum dolore eu fugiat nulla pariatur. Excepteur sint occaecat cupidatat non proident.\"\n",
    "]\n",
    "\n",
    "# Test the function\n",
    "result = search('c', text)\n",
    "print(result)\n"
   ]
  },
  {
   "cell_type": "code",
   "execution_count": 39,
   "metadata": {},
   "outputs": [],
   "source": [
    "# Char in text\n",
    "import pickle\n",
    "import string\n",
    "\n",
    "with open('char_in_text.pkl', 'rb') as f:\n",
    "    char_in_text = pickle.load(f)\n",
    "# char_in_text\n",
    "\n",
    "# REmove emojis\n",
    "# ----------------\n",
    "\n",
    "# Regex pattern to match emojis\n",
    "emoji_pattern = re.compile(\n",
    "    \"[\"\n",
    "    u\"\\U0001F600-\\U0001F64F\"  # Emoticons\n",
    "    u\"\\U0001F300-\\U0001F5FF\"  # Symbols & Pictographs\n",
    "    u\"\\U0001F680-\\U0001F6FF\"  # Transport & Map Symbols\n",
    "    u\"\\U0001F700-\\U0001F77F\"  # Alchemical Symbols\n",
    "    u\"\\U0001F780-\\U0001F7FF\"  # Geometric Shapes Extended\n",
    "    u\"\\U0001F800-\\U0001F8FF\"  # Supplemental Arrows-C\n",
    "    u\"\\U0001F900-\\U0001F9FF\"  # Supplemental Symbols and Pictographs\n",
    "    u\"\\U0001FA00-\\U0001FA6F\"  # Chess Symbols\n",
    "    u\"\\U0001FA70-\\U0001FAFF\"  # Symbols and Pictographs Extended-A\n",
    "    u\"\\U00002600-\\U000026FF\"  # Miscellaneous Symbols\n",
    "    u\"\\U00002700-\\U000027BF\"  # Dingbats\n",
    "    u\"\\U0001F1E0-\\U0001F1FF\"  # Flags (iOS)\n",
    "    \"]+\", flags=re.UNICODE\n",
    ")\n",
    "\n",
    "# Remove devanagari, a-z, A-Z,  0-9, punctuation\n",
    "pattern = re.compile('[ऀ-ॿ{}A-Za-z0-9]'.format(re.escape(string.punctuation)))\n",
    "\n",
    "to_replace = {\n",
    "'|': '।',\n",
    "'ا': '।',\n",
    "'‘' : \"'\",\n",
    "'’': \"'\",\n",
    "'–' : '-',\n",
    "'“' : '”',\n",
    "'—' : '-',\n",
    "'÷' : '/',\n",
    "'…': '...',\n",
    "'‚': ',',\n",
    "'‐': '-',\n",
    "}\n",
    "# सुर्खेत (रासस) । विसं २०४६ मा तत्कालीन मसालको विद्यार्थी संगठनको सदस्यता लिँदा उनी राप्ती ज्ञानोदय मावि रुकुममा कक्षा ६\n",
    "cleaned_char_in_text = {}\n",
    "\n",
    "for character in char_in_text:\n",
    "    if not emoji_pattern.match(character) and not  pattern.match(character) and character not in to_replace:\n",
    "        cleaned_char_in_text[character] = char_in_text[character]\n",
    "\n",
    "\n",
    "\n",
    "# cleaned_char_in_text\n",
    "\n",
    "import pickle\n",
    "\n",
    "with open('cleaned_char_in_text.pkl', 'wb') as f:\n",
    "    pickle.dump(cleaned_char_in_text, f)"
   ]
  }
 ],
 "metadata": {
  "kernelspec": {
   "display_name": "machine_env",
   "language": "python",
   "name": "python3"
  },
  "language_info": {
   "codemirror_mode": {
    "name": "ipython",
    "version": 3
   },
   "file_extension": ".py",
   "mimetype": "text/x-python",
   "name": "python",
   "nbconvert_exporter": "python",
   "pygments_lexer": "ipython3",
   "version": "3.10.12"
  }
 },
 "nbformat": 4,
 "nbformat_minor": 2
}
