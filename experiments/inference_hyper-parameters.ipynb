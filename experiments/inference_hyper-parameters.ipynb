{
 "cells": [
  {
   "cell_type": "code",
   "execution_count": null,
   "metadata": {
    "vscode": {
     "languageId": "plaintext"
    }
   },
   "outputs": [],
   "source": [
    "\n",
    "# GPT-40\n",
    "\n",
    "top_k = {\n",
    "'min':1,\n",
    "'default':50,\n",
    "'max':200\n",
    "}\n",
    "temperature = {\n",
    "'min':0,\n",
    "'default':0.7,\n",
    "'max':1.2\n",
    "}\n",
    "repetition_penalty = {\n",
    "'min':1,\n",
    "'default':1.2,\n",
    "'max':2\n",
    "}\n",
    "\n",
    "penalize_len_below{\n",
    "'min':5,\n",
    "'default':50,\n",
    "'max':200\n",
    "}\n",
    "\n",
    "# Claude 3.5 sonnet\n",
    "\n",
    "top_k = {\n",
    "'min':1,\n",
    "'default':45, # it said 400-50\n",
    "'max':512\n",
    "}\n",
    "temperature = {\n",
    "'min':0.1,\n",
    "'default':0.7, # it said .7-.9\n",
    "'max':2\n",
    "}\n",
    "repetition_penalty = {\n",
    "'min':1,\n",
    "'default':1.2, # it said 1.1-1.2\n",
    "'max':2\n",
    "}\n",
    "\n",
    "penalize_len_below = {\n",
    "'min':30, # it said 30-50\n",
    "'default':50, # it said 100-150\n",
    "'max':200 # it said 200-250\n",
    "}\n",
    "\n",
    "min_length:\n",
    "\n",
    "Minimum: 1.0 (no penalty)\n",
    "Default: 1.05-1.1 (gentle encouragement for longer outputs)\n",
    "Maximum: 1.5 (strong encouragement, though may affect quality if set too high)"
   ]
  }
 ],
 "metadata": {
  "language_info": {
   "name": "python"
  }
 },
 "nbformat": 4,
 "nbformat_minor": 2
}
